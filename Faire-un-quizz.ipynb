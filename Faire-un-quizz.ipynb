{
 "metadata": {
  "name": "",
  "signature": "sha256:475a30b6377354b1065112aec7f680c790ecd2d2375265afedfcea48e148b132"
 },
 "nbformat": 3,
 "nbformat_minor": 0,
 "worksheets": [
  {
   "cells": [
    {
     "cell_type": "heading",
     "level": 1,
     "metadata": {},
     "source": [
      "Notions pour faire un quizz"
     ]
    },
    {
     "cell_type": "heading",
     "level": 2,
     "metadata": {},
     "source": [
      "Introduction"
     ]
    },
    {
     "cell_type": "markdown",
     "metadata": {},
     "source": [
      "Pour faire un quizz il faut faire plusieurs choses :\n",
      "\n",
      "1) Afficher la question et les r\u00e9ponses possibles \u00e0 l'utilisateur\n",
      "\n",
      "2) R\u00e9cup\u00e9rer et stocker sa r\u00e9ponse\n",
      "\n",
      "3) Calculer le r\u00e9sultat du quizz"
     ]
    },
    {
     "cell_type": "heading",
     "level": 2,
     "metadata": {},
     "source": [
      "Afficher quelque chose"
     ]
    },
    {
     "cell_type": "markdown",
     "metadata": {},
     "source": [
      "Pour afficher quelque chose \u00e0 l'utilisateur on peut utiliser la fonction suivante :"
     ]
    },
    {
     "cell_type": "code",
     "collapsed": false,
     "input": [
      "console.log(\"Hello World !\");"
     ],
     "language": "python",
     "metadata": {},
     "outputs": []
    },
    {
     "cell_type": "markdown",
     "metadata": {},
     "source": [
      "Cet appel de fonction va afficher \"Hello World !\" (sans les guillemets) dans la console du navigateur."
     ]
    },
    {
     "cell_type": "heading",
     "level": 2,
     "metadata": {},
     "source": [
      "R\u00e9cup\u00e9rer une r\u00e9ponse"
     ]
    },
    {
     "cell_type": "markdown",
     "metadata": {},
     "source": [
      "Pour r\u00e9cup\u00e9rer une r\u00e9ponse de l'utilisateur on peut utiliser la fonction suivante :"
     ]
    },
    {
     "cell_type": "code",
     "collapsed": false,
     "input": [
      "var name = prompt(\"What's your name ?\");"
     ],
     "language": "python",
     "metadata": {},
     "outputs": []
    },
    {
     "cell_type": "markdown",
     "metadata": {},
     "source": [
      "Cet appel de fonction va afficher une popup dans laquelle l'utilisateur pour \u00e9crire du texte qui sera ensuite stock\u00e9 dans la variable \"name\"."
     ]
    },
    {
     "cell_type": "heading",
     "level": 2,
     "metadata": {},
     "source": [
      "Conditionnel"
     ]
    },
    {
     "cell_type": "markdown",
     "metadata": {},
     "source": [
      "Pour savoir si la r\u00e9ponse donn\u00e9e par l'utilisateur est bonne ou pas il faut utiliser des conditions. Les conditions permettent d'ex\u00e9cuter une portion de code seulement si une condition est vraie."
     ]
    },
    {
     "cell_type": "code",
     "collapsed": false,
     "input": [
      "var age = 19;\n",
      "\n",
      "if (age > 18) {\n",
      "    console.log(\"You can vote.\");\n",
      "} else {\n",
      "    console.log(\"You cannot vote.\");\n",
      "}"
     ],
     "language": "python",
     "metadata": {},
     "outputs": []
    },
    {
     "cell_type": "markdown",
     "metadata": {},
     "source": [
      "Dans cet exemple on affiche \"You can vote.\" parce que la variable \"age\" contient un nombre plus grand que 18."
     ]
    }
   ],
   "metadata": {}
  }
 ]
}
